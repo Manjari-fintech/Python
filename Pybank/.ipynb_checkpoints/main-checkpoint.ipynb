{
 "cells": [
  {
   "cell_type": "code",
   "execution_count": 6,
   "metadata": {},
   "outputs": [],
   "source": [
    "from pathlib import Path\n",
    "import csv\n",
    "total = 0\n",
    "total_count = 0\n",
    "previous_val = 867884\n",
    "valchange = 0\n",
    "change = []\n",
    "profit_loss = {}\n",
    "date = []\n",
    "csvpath = Path(\"budget_data.csv\")\n",
    "with open(csvpath, 'r') as csvfile:\n",
    "    csvreader = csv.reader(csvfile, delimiter = ',')\n",
    "    header = next(csvreader)\n",
    "#     print(header)\n",
    "    for row in csvreader:\n",
    "        total += int(row[1])\n",
    "        total_count += 1\n",
    "        valchange =  int(row[1]) - previous_val\n",
    "        previous_val = int(row[1]) \n",
    "        change.append(valchange)\n",
    "        total_change = sum(change)\n",
    "        max_change = max(change)\n",
    "        min_change = min(change)\n",
    "#         print(row)\n",
    "        profit_losses = int(row[1])\n",
    "        dates = row[0]\n",
    "        if dates not in profit_loss.keys():\n",
    "            profit_loss[dates] = profit_losses\n",
    "        else:\n",
    "            profit_loss[dates] += profit_losses\n",
    "            \n",
    "    maximum_key = max(profit_loss, key=profit_loss.get)\n",
    "    minimum_key = min(profit_loss, key=profit_loss.get)\n",
    "#     print(change)\n",
    "    average_change = round(total_change/(total_count-1), 2)\n",
    "    Fin_analysis_path = Path(\"Fin_analysis.txt\")\n",
    "    with open(Fin_analysis_path, \"w\") as file:\n",
    "        file.write(f\"Financial Analysis\\n\")\n",
    "        file.write(f\"----------------------\\n\")\n",
    "        file.write(f\"Total Months: {total_count}\\n\")\n",
    "        file.write(f\"Total: $ {total}\\n\")\n",
    "        file.write(f\"Average Change: $ {average_change}\\n\")\n",
    "        file.write(f\"Greatest Increase in Profits: {maximum_key} (${max_change})\\n\")\n",
    "        file.write(f\"Greatest Decrease in Profits: {minimum_key} (${min_change})\\n\")"
   ]
  },
  {
   "cell_type": "code",
   "execution_count": null,
   "metadata": {},
   "outputs": [],
   "source": []
  }
 ],
 "metadata": {
  "kernelspec": {
   "display_name": "Python 3",
   "language": "python",
   "name": "python3"
  },
  "language_info": {
   "codemirror_mode": {
    "name": "ipython",
    "version": 3
   },
   "file_extension": ".py",
   "mimetype": "text/x-python",
   "name": "python",
   "nbconvert_exporter": "python",
   "pygments_lexer": "ipython3",
   "version": "3.7.6"
  }
 },
 "nbformat": 4,
 "nbformat_minor": 4
}
