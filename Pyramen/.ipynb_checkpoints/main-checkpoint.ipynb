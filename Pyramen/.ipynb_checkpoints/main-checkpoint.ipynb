{
 "cells": [
  {
   "cell_type": "code",
   "execution_count": 2,
   "metadata": {},
   "outputs": [
    {
     "name": "stdout",
     "output_type": "stream",
     "text": [
      " Total number of records:  74124\n"
     ]
    }
   ],
   "source": [
    "import csv\n",
    "from pathlib import Path\n",
    "menu_filepath = Path('menu_data.csv')\n",
    "sales_filepath = Path('sales_data.csv')\n",
    "menu = []\n",
    "sales = []\n",
    "report = {} \n",
    "row_count = 0\n",
    "\n",
    "with open(menu_filepath, 'r') as menufile:\n",
    "    menureader = csv.reader(menufile, delimiter = \",\")\n",
    "    menuheader = next(menureader)\n",
    "    for menurow in menureader:\n",
    "        menu.append(menurow)\n",
    "\n",
    "with open(sales_filepath, 'r') as salesfile:\n",
    "    salesreader = csv.reader(salesfile, delimiter = \",\")\n",
    "    salesheader = next(salesreader)\n",
    "    for salesrow in salesreader:\n",
    "        sales.append(salesrow)\n",
    "\n",
    "for row in sales:\n",
    "    quantity = int(row[3])\n",
    "    sales_item = row[4]\n",
    "    if sales_item not in report.keys():\n",
    "        report[sales_item] = {\"01-count\": 0, \"02-revenue\": 0, \"03-cogs\": 0, \"04-profit\":0}\n",
    "\n",
    "    for row in menu:\n",
    "        item = row[0]\n",
    "        price = float(row[3])\n",
    "        cost = float(row[4])\n",
    "        profit = price - cost\n",
    "    \n",
    "        if sales_item == item:\n",
    "            report[sales_item][\"01-count\"] += quantity\n",
    "            report[sales_item][\"02-revenue\"] += price * quantity\n",
    "            report[sales_item][\"03-cogs\"] += cost * quantity\n",
    "            report[sales_item][\"04-profit\"] += profit * quantity\n",
    "#         else:\n",
    "#             print(f\"{sales_item} does not equal {item}! NO MATCH!\")\n",
    "    row_count +=1\n",
    "\n",
    "print(\" Total number of records: \", row_count)\n",
    "\n",
    "# for key, value in report.items():\n",
    "     \n",
    "#     print( key, value)\n",
    "\n",
    "Pyramen_report = Path(\"Pyramen_report.txt\")\n",
    "with open(Pyramen_report, \"w\") as file:\n",
    "    for key, value in report.items():\n",
    "        s = str(key) + str(value) + \"\\n\"\n",
    "        file.write(s)\n"
   ]
  },
  {
   "cell_type": "code",
   "execution_count": null,
   "metadata": {},
   "outputs": [],
   "source": []
  }
 ],
 "metadata": {
  "kernelspec": {
   "display_name": "Python 3",
   "language": "python",
   "name": "python3"
  },
  "language_info": {
   "codemirror_mode": {
    "name": "ipython",
    "version": 3
   },
   "file_extension": ".py",
   "mimetype": "text/x-python",
   "name": "python",
   "nbconvert_exporter": "python",
   "pygments_lexer": "ipython3",
   "version": "3.7.7"
  }
 },
 "nbformat": 4,
 "nbformat_minor": 4
}
